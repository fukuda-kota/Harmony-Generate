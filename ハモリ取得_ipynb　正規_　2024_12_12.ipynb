{
  "cells": [
    {
      "cell_type": "markdown",
      "metadata": {
        "id": "view-in-github",
        "colab_type": "text"
      },
      "source": [
        "<a href=\"https://colab.research.google.com/github/fukuda-kota/Harmony-Generate/blob/main/%E3%83%8F%E3%83%A2%E3%83%AA%E5%8F%96%E5%BE%97_ipynb%E3%80%80%E6%AD%A3%E8%A6%8F_%E3%80%802024_12_12.ipynb\" target=\"_parent\"><img src=\"https://colab.research.google.com/assets/colab-badge.svg\" alt=\"Open In Colab\"/></a>"
      ]
    },
    {
      "cell_type": "markdown",
      "source": [
        " #  全体説明\n",
        "\n",
        "1.   ライブラリ\n",
        "2.   音源分離\n",
        "3.   副旋律(ハモリ)生成\n",
        "4.   音源合成\n",
        "\n"
      ],
      "metadata": {
        "id": "xu5UJo8325c2"
      }
    },
    {
      "cell_type": "markdown",
      "source": [
        "# ライブラリ"
      ],
      "metadata": {
        "id": "TC0Rblk4_tZv"
      }
    },
    {
      "cell_type": "code",
      "execution_count": 1,
      "metadata": {
        "colab": {
          "base_uri": "https://localhost:8080/"
        },
        "id": "PCZJDCObzryb",
        "outputId": "b41bb2de-70aa-450a-9d19-3243965d8240"
      },
      "outputs": [
        {
          "output_type": "stream",
          "name": "stdout",
          "text": [
            "Collecting git+https://github.com/deezer/spleeter\n",
            "  Cloning https://github.com/deezer/spleeter to /tmp/pip-req-build-ylr50xf0\n",
            "  Running command git clone --filter=blob:none --quiet https://github.com/deezer/spleeter /tmp/pip-req-build-ylr50xf0\n",
            "  Resolved https://github.com/deezer/spleeter to commit 9830c9b3dfbae3c677c0314b69522b4531748620\n",
            "  Installing build dependencies ... \u001b[?25l\u001b[?25hdone\n",
            "  Getting requirements to build wheel ... \u001b[?25l\u001b[?25hdone\n",
            "  Preparing metadata (pyproject.toml) ... \u001b[?25l\u001b[?25hdone\n",
            "Requirement already satisfied: ffmpeg-python<0.3.0,>=0.2.0 in /usr/local/lib/python3.11/dist-packages (from spleeter==2.4.2) (0.2.0)\n",
            "Requirement already satisfied: httpx<0.20.0,>=0.19.0 in /usr/local/lib/python3.11/dist-packages (from httpx[http2]<0.20.0,>=0.19.0->spleeter==2.4.2) (0.19.0)\n",
            "Requirement already satisfied: norbert<0.3.0,>=0.2.1 in /usr/local/lib/python3.11/dist-packages (from spleeter==2.4.2) (0.2.1)\n",
            "Requirement already satisfied: numpy<2.0.0 in /usr/local/lib/python3.11/dist-packages (from spleeter==2.4.2) (1.24.3)\n",
            "Requirement already satisfied: pandas<2.0.0,>=1.3.0 in /usr/local/lib/python3.11/dist-packages (from spleeter==2.4.2) (1.5.3)\n",
            "Requirement already satisfied: tensorflow==2.12.1 in /usr/local/lib/python3.11/dist-packages (from spleeter==2.4.2) (2.12.1)\n",
            "Requirement already satisfied: tensorflow-io-gcs-filesystem==0.32.0 in /usr/local/lib/python3.11/dist-packages (from spleeter==2.4.2) (0.32.0)\n",
            "Requirement already satisfied: typer<0.4.0,>=0.3.2 in /usr/local/lib/python3.11/dist-packages (from spleeter==2.4.2) (0.3.2)\n",
            "Requirement already satisfied: absl-py>=1.0.0 in /usr/local/lib/python3.11/dist-packages (from tensorflow==2.12.1->spleeter==2.4.2) (1.4.0)\n",
            "Requirement already satisfied: astunparse>=1.6.0 in /usr/local/lib/python3.11/dist-packages (from tensorflow==2.12.1->spleeter==2.4.2) (1.6.3)\n",
            "Requirement already satisfied: flatbuffers>=2.0 in /usr/local/lib/python3.11/dist-packages (from tensorflow==2.12.1->spleeter==2.4.2) (25.1.24)\n",
            "Requirement already satisfied: gast<=0.4.0,>=0.2.1 in /usr/local/lib/python3.11/dist-packages (from tensorflow==2.12.1->spleeter==2.4.2) (0.4.0)\n",
            "Requirement already satisfied: google-pasta>=0.1.1 in /usr/local/lib/python3.11/dist-packages (from tensorflow==2.12.1->spleeter==2.4.2) (0.2.0)\n",
            "Requirement already satisfied: grpcio<2.0,>=1.24.3 in /usr/local/lib/python3.11/dist-packages (from tensorflow==2.12.1->spleeter==2.4.2) (1.70.0)\n",
            "Requirement already satisfied: h5py>=2.9.0 in /usr/local/lib/python3.11/dist-packages (from tensorflow==2.12.1->spleeter==2.4.2) (3.12.1)\n",
            "Requirement already satisfied: jax>=0.3.15 in /usr/local/lib/python3.11/dist-packages (from tensorflow==2.12.1->spleeter==2.4.2) (0.4.33)\n",
            "Requirement already satisfied: keras<2.13,>=2.12.0 in /usr/local/lib/python3.11/dist-packages (from tensorflow==2.12.1->spleeter==2.4.2) (2.12.0)\n",
            "Requirement already satisfied: libclang>=13.0.0 in /usr/local/lib/python3.11/dist-packages (from tensorflow==2.12.1->spleeter==2.4.2) (18.1.1)\n",
            "Requirement already satisfied: opt-einsum>=2.3.2 in /usr/local/lib/python3.11/dist-packages (from tensorflow==2.12.1->spleeter==2.4.2) (3.4.0)\n",
            "Requirement already satisfied: packaging in /usr/local/lib/python3.11/dist-packages (from tensorflow==2.12.1->spleeter==2.4.2) (24.2)\n",
            "Requirement already satisfied: protobuf!=4.21.0,!=4.21.1,!=4.21.2,!=4.21.3,!=4.21.4,!=4.21.5,<5.0.0dev,>=3.20.3 in /usr/local/lib/python3.11/dist-packages (from tensorflow==2.12.1->spleeter==2.4.2) (4.25.6)\n",
            "Requirement already satisfied: setuptools in /usr/local/lib/python3.11/dist-packages (from tensorflow==2.12.1->spleeter==2.4.2) (75.1.0)\n",
            "Requirement already satisfied: six>=1.12.0 in /usr/local/lib/python3.11/dist-packages (from tensorflow==2.12.1->spleeter==2.4.2) (1.17.0)\n",
            "Requirement already satisfied: tensorboard<2.13,>=2.12 in /usr/local/lib/python3.11/dist-packages (from tensorflow==2.12.1->spleeter==2.4.2) (2.12.3)\n",
            "Requirement already satisfied: tensorflow-estimator<2.13,>=2.12.0 in /usr/local/lib/python3.11/dist-packages (from tensorflow==2.12.1->spleeter==2.4.2) (2.12.0)\n",
            "Requirement already satisfied: termcolor>=1.1.0 in /usr/local/lib/python3.11/dist-packages (from tensorflow==2.12.1->spleeter==2.4.2) (2.5.0)\n",
            "Requirement already satisfied: typing-extensions<4.6.0,>=3.6.6 in /usr/local/lib/python3.11/dist-packages (from tensorflow==2.12.1->spleeter==2.4.2) (4.5.0)\n",
            "Requirement already satisfied: wrapt<1.15,>=1.11.0 in /usr/local/lib/python3.11/dist-packages (from tensorflow==2.12.1->spleeter==2.4.2) (1.14.1)\n",
            "Requirement already satisfied: future in /usr/local/lib/python3.11/dist-packages (from ffmpeg-python<0.3.0,>=0.2.0->spleeter==2.4.2) (1.0.0)\n",
            "Requirement already satisfied: certifi in /usr/local/lib/python3.11/dist-packages (from httpx<0.20.0,>=0.19.0->httpx[http2]<0.20.0,>=0.19.0->spleeter==2.4.2) (2024.12.14)\n",
            "Requirement already satisfied: charset-normalizer in /usr/local/lib/python3.11/dist-packages (from httpx<0.20.0,>=0.19.0->httpx[http2]<0.20.0,>=0.19.0->spleeter==2.4.2) (3.4.1)\n",
            "Requirement already satisfied: sniffio in /usr/local/lib/python3.11/dist-packages (from httpx<0.20.0,>=0.19.0->httpx[http2]<0.20.0,>=0.19.0->spleeter==2.4.2) (1.3.1)\n",
            "Requirement already satisfied: rfc3986<2,>=1.3 in /usr/local/lib/python3.11/dist-packages (from rfc3986[idna2008]<2,>=1.3->httpx<0.20.0,>=0.19.0->httpx[http2]<0.20.0,>=0.19.0->spleeter==2.4.2) (1.5.0)\n",
            "Requirement already satisfied: httpcore<0.14.0,>=0.13.3 in /usr/local/lib/python3.11/dist-packages (from httpx<0.20.0,>=0.19.0->httpx[http2]<0.20.0,>=0.19.0->spleeter==2.4.2) (0.13.7)\n",
            "Requirement already satisfied: h2<5,>=3 in /usr/local/lib/python3.11/dist-packages (from httpx[http2]<0.20.0,>=0.19.0->spleeter==2.4.2) (4.2.0)\n",
            "Requirement already satisfied: scipy in /usr/local/lib/python3.11/dist-packages (from norbert<0.3.0,>=0.2.1->spleeter==2.4.2) (1.13.1)\n",
            "Requirement already satisfied: python-dateutil>=2.8.1 in /usr/local/lib/python3.11/dist-packages (from pandas<2.0.0,>=1.3.0->spleeter==2.4.2) (2.8.2)\n",
            "Requirement already satisfied: pytz>=2020.1 in /usr/local/lib/python3.11/dist-packages (from pandas<2.0.0,>=1.3.0->spleeter==2.4.2) (2024.2)\n",
            "Requirement already satisfied: click<7.2.0,>=7.1.1 in /usr/local/lib/python3.11/dist-packages (from typer<0.4.0,>=0.3.2->spleeter==2.4.2) (7.1.2)\n",
            "Requirement already satisfied: wheel<1.0,>=0.23.0 in /usr/local/lib/python3.11/dist-packages (from astunparse>=1.6.0->tensorflow==2.12.1->spleeter==2.4.2) (0.45.1)\n",
            "Requirement already satisfied: hyperframe<7,>=6.1 in /usr/local/lib/python3.11/dist-packages (from h2<5,>=3->httpx[http2]<0.20.0,>=0.19.0->spleeter==2.4.2) (6.1.0)\n",
            "Requirement already satisfied: hpack<5,>=4.1 in /usr/local/lib/python3.11/dist-packages (from h2<5,>=3->httpx[http2]<0.20.0,>=0.19.0->spleeter==2.4.2) (4.1.0)\n",
            "Requirement already satisfied: h11<0.13,>=0.11 in /usr/local/lib/python3.11/dist-packages (from httpcore<0.14.0,>=0.13.3->httpx<0.20.0,>=0.19.0->httpx[http2]<0.20.0,>=0.19.0->spleeter==2.4.2) (0.12.0)\n",
            "Requirement already satisfied: anyio==3.* in /usr/local/lib/python3.11/dist-packages (from httpcore<0.14.0,>=0.13.3->httpx<0.20.0,>=0.19.0->httpx[http2]<0.20.0,>=0.19.0->spleeter==2.4.2) (3.7.1)\n",
            "Requirement already satisfied: idna>=2.8 in /usr/local/lib/python3.11/dist-packages (from anyio==3.*->httpcore<0.14.0,>=0.13.3->httpx<0.20.0,>=0.19.0->httpx[http2]<0.20.0,>=0.19.0->spleeter==2.4.2) (3.10)\n",
            "Requirement already satisfied: jaxlib<=0.4.33,>=0.4.33 in /usr/local/lib/python3.11/dist-packages (from jax>=0.3.15->tensorflow==2.12.1->spleeter==2.4.2) (0.4.33)\n",
            "Requirement already satisfied: ml-dtypes>=0.2.0 in /usr/local/lib/python3.11/dist-packages (from jax>=0.3.15->tensorflow==2.12.1->spleeter==2.4.2) (0.4.1)\n",
            "Requirement already satisfied: google-auth<3,>=1.6.3 in /usr/local/lib/python3.11/dist-packages (from tensorboard<2.13,>=2.12->tensorflow==2.12.1->spleeter==2.4.2) (2.27.0)\n",
            "Requirement already satisfied: google-auth-oauthlib<1.1,>=0.5 in /usr/local/lib/python3.11/dist-packages (from tensorboard<2.13,>=2.12->tensorflow==2.12.1->spleeter==2.4.2) (1.0.0)\n",
            "Requirement already satisfied: markdown>=2.6.8 in /usr/local/lib/python3.11/dist-packages (from tensorboard<2.13,>=2.12->tensorflow==2.12.1->spleeter==2.4.2) (3.7)\n",
            "Requirement already satisfied: requests<3,>=2.21.0 in /usr/local/lib/python3.11/dist-packages (from tensorboard<2.13,>=2.12->tensorflow==2.12.1->spleeter==2.4.2) (2.32.3)\n",
            "Requirement already satisfied: tensorboard-data-server<0.8.0,>=0.7.0 in /usr/local/lib/python3.11/dist-packages (from tensorboard<2.13,>=2.12->tensorflow==2.12.1->spleeter==2.4.2) (0.7.2)\n",
            "Requirement already satisfied: werkzeug>=1.0.1 in /usr/local/lib/python3.11/dist-packages (from tensorboard<2.13,>=2.12->tensorflow==2.12.1->spleeter==2.4.2) (3.1.3)\n",
            "Requirement already satisfied: cachetools<6.0,>=2.0.0 in /usr/local/lib/python3.11/dist-packages (from google-auth<3,>=1.6.3->tensorboard<2.13,>=2.12->tensorflow==2.12.1->spleeter==2.4.2) (5.5.1)\n",
            "Requirement already satisfied: pyasn1-modules>=0.2.1 in /usr/local/lib/python3.11/dist-packages (from google-auth<3,>=1.6.3->tensorboard<2.13,>=2.12->tensorflow==2.12.1->spleeter==2.4.2) (0.4.1)\n",
            "Requirement already satisfied: rsa<5,>=3.1.4 in /usr/local/lib/python3.11/dist-packages (from google-auth<3,>=1.6.3->tensorboard<2.13,>=2.12->tensorflow==2.12.1->spleeter==2.4.2) (4.9)\n",
            "Requirement already satisfied: requests-oauthlib>=0.7.0 in /usr/local/lib/python3.11/dist-packages (from google-auth-oauthlib<1.1,>=0.5->tensorboard<2.13,>=2.12->tensorflow==2.12.1->spleeter==2.4.2) (1.3.1)\n",
            "Requirement already satisfied: urllib3<3,>=1.21.1 in /usr/local/lib/python3.11/dist-packages (from requests<3,>=2.21.0->tensorboard<2.13,>=2.12->tensorflow==2.12.1->spleeter==2.4.2) (2.3.0)\n",
            "Requirement already satisfied: MarkupSafe>=2.1.1 in /usr/local/lib/python3.11/dist-packages (from werkzeug>=1.0.1->tensorboard<2.13,>=2.12->tensorflow==2.12.1->spleeter==2.4.2) (3.0.2)\n",
            "Requirement already satisfied: pyasn1<0.7.0,>=0.4.6 in /usr/local/lib/python3.11/dist-packages (from pyasn1-modules>=0.2.1->google-auth<3,>=1.6.3->tensorboard<2.13,>=2.12->tensorflow==2.12.1->spleeter==2.4.2) (0.6.1)\n",
            "Requirement already satisfied: oauthlib>=3.0.0 in /usr/local/lib/python3.11/dist-packages (from requests-oauthlib>=0.7.0->google-auth-oauthlib<1.1,>=0.5->tensorboard<2.13,>=2.12->tensorflow==2.12.1->spleeter==2.4.2) (3.2.2)\n",
            "Requirement already satisfied: librosa in /usr/local/lib/python3.11/dist-packages (0.10.2.post1)\n",
            "Requirement already satisfied: audioread>=2.1.9 in /usr/local/lib/python3.11/dist-packages (from librosa) (3.0.1)\n",
            "Requirement already satisfied: numpy!=1.22.0,!=1.22.1,!=1.22.2,>=1.20.3 in /usr/local/lib/python3.11/dist-packages (from librosa) (1.24.3)\n",
            "Requirement already satisfied: scipy>=1.2.0 in /usr/local/lib/python3.11/dist-packages (from librosa) (1.13.1)\n",
            "Requirement already satisfied: scikit-learn>=0.20.0 in /usr/local/lib/python3.11/dist-packages (from librosa) (1.6.1)\n",
            "Requirement already satisfied: joblib>=0.14 in /usr/local/lib/python3.11/dist-packages (from librosa) (1.4.2)\n",
            "Requirement already satisfied: decorator>=4.3.0 in /usr/local/lib/python3.11/dist-packages (from librosa) (4.4.2)\n",
            "Requirement already satisfied: numba>=0.51.0 in /usr/local/lib/python3.11/dist-packages (from librosa) (0.60.0)\n",
            "Requirement already satisfied: soundfile>=0.12.1 in /usr/local/lib/python3.11/dist-packages (from librosa) (0.13.1)\n",
            "Requirement already satisfied: pooch>=1.1 in /usr/local/lib/python3.11/dist-packages (from librosa) (1.8.2)\n",
            "Requirement already satisfied: soxr>=0.3.2 in /usr/local/lib/python3.11/dist-packages (from librosa) (0.5.0.post1)\n",
            "Requirement already satisfied: typing-extensions>=4.1.1 in /usr/local/lib/python3.11/dist-packages (from librosa) (4.5.0)\n",
            "Requirement already satisfied: lazy-loader>=0.1 in /usr/local/lib/python3.11/dist-packages (from librosa) (0.4)\n",
            "Requirement already satisfied: msgpack>=1.0 in /usr/local/lib/python3.11/dist-packages (from librosa) (1.1.0)\n",
            "Requirement already satisfied: packaging in /usr/local/lib/python3.11/dist-packages (from lazy-loader>=0.1->librosa) (24.2)\n",
            "Requirement already satisfied: llvmlite<0.44,>=0.43.0dev0 in /usr/local/lib/python3.11/dist-packages (from numba>=0.51.0->librosa) (0.43.0)\n",
            "Requirement already satisfied: platformdirs>=2.5.0 in /usr/local/lib/python3.11/dist-packages (from pooch>=1.1->librosa) (4.3.6)\n",
            "Requirement already satisfied: requests>=2.19.0 in /usr/local/lib/python3.11/dist-packages (from pooch>=1.1->librosa) (2.32.3)\n",
            "Requirement already satisfied: threadpoolctl>=3.1.0 in /usr/local/lib/python3.11/dist-packages (from scikit-learn>=0.20.0->librosa) (3.5.0)\n",
            "Requirement already satisfied: cffi>=1.0 in /usr/local/lib/python3.11/dist-packages (from soundfile>=0.12.1->librosa) (1.17.1)\n",
            "Requirement already satisfied: pycparser in /usr/local/lib/python3.11/dist-packages (from cffi>=1.0->soundfile>=0.12.1->librosa) (2.22)\n",
            "Requirement already satisfied: charset-normalizer<4,>=2 in /usr/local/lib/python3.11/dist-packages (from requests>=2.19.0->pooch>=1.1->librosa) (3.4.1)\n",
            "Requirement already satisfied: idna<4,>=2.5 in /usr/local/lib/python3.11/dist-packages (from requests>=2.19.0->pooch>=1.1->librosa) (3.10)\n",
            "Requirement already satisfied: urllib3<3,>=1.21.1 in /usr/local/lib/python3.11/dist-packages (from requests>=2.19.0->pooch>=1.1->librosa) (2.3.0)\n",
            "Requirement already satisfied: certifi>=2017.4.17 in /usr/local/lib/python3.11/dist-packages (from requests>=2.19.0->pooch>=1.1->librosa) (2024.12.14)\n",
            "Requirement already satisfied: pyworld in /usr/local/lib/python3.11/dist-packages (0.3.5)\n",
            "Requirement already satisfied: numpy in /usr/local/lib/python3.11/dist-packages (from pyworld) (1.24.3)\n",
            "Requirement already satisfied: pydub in /usr/local/lib/python3.11/dist-packages (0.25.1)\n",
            "Requirement already satisfied: numpy in /usr/local/lib/python3.11/dist-packages (1.24.3)\n",
            "Requirement already satisfied: matplotlib in /usr/local/lib/python3.11/dist-packages (3.10.0)\n",
            "Requirement already satisfied: contourpy>=1.0.1 in /usr/local/lib/python3.11/dist-packages (from matplotlib) (1.3.1)\n",
            "Requirement already satisfied: cycler>=0.10 in /usr/local/lib/python3.11/dist-packages (from matplotlib) (0.12.1)\n",
            "Requirement already satisfied: fonttools>=4.22.0 in /usr/local/lib/python3.11/dist-packages (from matplotlib) (4.55.7)\n",
            "Requirement already satisfied: kiwisolver>=1.3.1 in /usr/local/lib/python3.11/dist-packages (from matplotlib) (1.4.8)\n",
            "Requirement already satisfied: numpy>=1.23 in /usr/local/lib/python3.11/dist-packages (from matplotlib) (1.24.3)\n",
            "Requirement already satisfied: packaging>=20.0 in /usr/local/lib/python3.11/dist-packages (from matplotlib) (24.2)\n",
            "Requirement already satisfied: pillow>=8 in /usr/local/lib/python3.11/dist-packages (from matplotlib) (11.1.0)\n",
            "Requirement already satisfied: pyparsing>=2.3.1 in /usr/local/lib/python3.11/dist-packages (from matplotlib) (3.2.1)\n",
            "Requirement already satisfied: python-dateutil>=2.7 in /usr/local/lib/python3.11/dist-packages (from matplotlib) (2.8.2)\n",
            "Requirement already satisfied: six>=1.5 in /usr/local/lib/python3.11/dist-packages (from python-dateutil>=2.7->matplotlib) (1.17.0)\n",
            "Requirement already satisfied: resampy in /usr/local/lib/python3.11/dist-packages (0.4.3)\n",
            "Requirement already satisfied: numpy>=1.17 in /usr/local/lib/python3.11/dist-packages (from resampy) (1.24.3)\n",
            "Requirement already satisfied: numba>=0.53 in /usr/local/lib/python3.11/dist-packages (from resampy) (0.60.0)\n",
            "Requirement already satisfied: llvmlite<0.44,>=0.43.0dev0 in /usr/local/lib/python3.11/dist-packages (from numba>=0.53->resampy) (0.43.0)\n",
            "Requirement already satisfied: hmmlearn in /usr/local/lib/python3.11/dist-packages (0.3.3)\n",
            "Requirement already satisfied: numpy>=1.10 in /usr/local/lib/python3.11/dist-packages (from hmmlearn) (1.24.3)\n",
            "Requirement already satisfied: scikit-learn!=0.22.0,>=0.16 in /usr/local/lib/python3.11/dist-packages (from hmmlearn) (1.6.1)\n",
            "Requirement already satisfied: scipy>=0.19 in /usr/local/lib/python3.11/dist-packages (from hmmlearn) (1.13.1)\n",
            "Requirement already satisfied: joblib>=1.2.0 in /usr/local/lib/python3.11/dist-packages (from scikit-learn!=0.22.0,>=0.16->hmmlearn) (1.4.2)\n",
            "Requirement already satisfied: threadpoolctl>=3.1.0 in /usr/local/lib/python3.11/dist-packages (from scikit-learn!=0.22.0,>=0.16->hmmlearn) (3.5.0)\n",
            "Requirement already satisfied: essentia in /usr/local/lib/python3.11/dist-packages (2.1b6.dev1110)\n",
            "Requirement already satisfied: numpy>=1.8.2 in /usr/local/lib/python3.11/dist-packages (from essentia) (1.24.3)\n",
            "Requirement already satisfied: six in /usr/local/lib/python3.11/dist-packages (from essentia) (1.17.0)\n",
            "Requirement already satisfied: pyyaml in /usr/local/lib/python3.11/dist-packages (from essentia) (6.0.2)\n"
          ]
        }
      ],
      "source": [
        "#ライブラリのインストールと準備\n",
        "\n",
        "!pip install git+https://github.com/deezer/spleeter\n",
        "!pip install librosa\n",
        "!pip install pyworld\n",
        "!pip install pydub\n",
        "!pip install numpy\n",
        "!pip install matplotlib\n",
        "!pip install resampy\n",
        "!pip install hmmlearn\n",
        "!pip install essentia\n"
      ]
    },
    {
      "cell_type": "markdown",
      "source": [
        "## 音源分離\n",
        "\n",
        " **input_file** に音源分離したいファイルのパスを入れると、\n",
        "\n",
        " **wav_files**に 主旋律と伴奏の分離された音源が格納される。\n",
        ""
      ],
      "metadata": {
        "id": "v1J2_Jl8xFhm"
      }
    },
    {
      "cell_type": "code",
      "execution_count": 2,
      "metadata": {
        "colab": {
          "base_uri": "https://localhost:8080/"
        },
        "id": "hxsubQ8UIa80",
        "outputId": "9fee1cc4-50d3-42b7-823b-17756208746b"
      },
      "outputs": [
        {
          "output_type": "stream",
          "name": "stdout",
          "text": [
            "INFO:spleeter:Downloading model archive https://github.com/deezer/spleeter/releases/download/v1.4.0/2stems.tar.gz\n"
          ]
        },
        {
          "output_type": "stream",
          "name": "stderr",
          "text": [
            "INFO:spleeter:Downloading model archive https://github.com/deezer/spleeter/releases/download/v1.4.0/2stems.tar.gz\n"
          ]
        },
        {
          "output_type": "stream",
          "name": "stdout",
          "text": [
            "INFO:spleeter:Validating archive checksum\n"
          ]
        },
        {
          "output_type": "stream",
          "name": "stderr",
          "text": [
            "INFO:spleeter:Validating archive checksum\n"
          ]
        },
        {
          "output_type": "stream",
          "name": "stdout",
          "text": [
            "INFO:spleeter:Extracting downloaded 2stems archive\n"
          ]
        },
        {
          "output_type": "stream",
          "name": "stderr",
          "text": [
            "INFO:spleeter:Extracting downloaded 2stems archive\n"
          ]
        },
        {
          "output_type": "stream",
          "name": "stdout",
          "text": [
            "INFO:spleeter:2stems model file(s) extracted\n"
          ]
        },
        {
          "output_type": "stream",
          "name": "stderr",
          "text": [
            "INFO:spleeter:2stems model file(s) extracted\n",
            "WARNING:tensorflow:From /usr/local/lib/python3.11/dist-packages/spleeter/separator.py:65: RunConfig.__init__ (from tensorflow_estimator.python.estimator.run_config) is deprecated and will be removed in a future version.\n",
            "Instructions for updating:\n",
            "Use tf.keras instead.\n",
            "WARNING:tensorflow:From /usr/local/lib/python3.11/dist-packages/spleeter/separator.py:67: Estimator.__init__ (from tensorflow_estimator.python.estimator.estimator) is deprecated and will be removed in a future version.\n",
            "Instructions for updating:\n",
            "Use tf.keras instead.\n",
            "WARNING:tensorflow:From /usr/local/lib/python3.11/dist-packages/keras/layers/normalization/batch_normalization.py:581: _colocate_with (from tensorflow.python.framework.ops) is deprecated and will be removed in a future version.\n",
            "Instructions for updating:\n",
            "Colocations handled automatically by placer.\n",
            "WARNING:tensorflow:From /usr/local/lib/python3.11/dist-packages/spleeter/model/__init__.py:524: EstimatorSpec.__new__ (from tensorflow_estimator.python.estimator.model_fn) is deprecated and will be removed in a future version.\n",
            "Instructions for updating:\n",
            "Use tf.keras instead.\n",
            "WARNING:tensorflow:From /usr/local/lib/python3.11/dist-packages/tensorflow/python/saved_model/model_utils/export_utils.py:366: PredictOutput.__init__ (from tensorflow.python.saved_model.model_utils.export_output) is deprecated and will be removed in a future version.\n",
            "Instructions for updating:\n",
            "Use tf.keras instead.\n",
            "WARNING:tensorflow:From /usr/local/lib/python3.11/dist-packages/tensorflow/python/training/monitored_session.py:1455: SessionRunArgs.__new__ (from tensorflow.python.training.session_run_hook) is deprecated and will be removed in a future version.\n",
            "Instructions for updating:\n",
            "Use tf.keras instead.\n",
            "WARNING:tensorflow:From /usr/local/lib/python3.11/dist-packages/tensorflow/python/training/monitored_session.py:1454: SessionRunContext.__init__ (from tensorflow.python.training.session_run_hook) is deprecated and will be removed in a future version.\n",
            "Instructions for updating:\n",
            "Use tf.keras instead.\n",
            "WARNING:tensorflow:From /usr/local/lib/python3.11/dist-packages/tensorflow/python/training/monitored_session.py:1474: SessionRunValues.__new__ (from tensorflow.python.training.session_run_hook) is deprecated and will be removed in a future version.\n",
            "Instructions for updating:\n",
            "Use tf.keras instead.\n"
          ]
        },
        {
          "output_type": "stream",
          "name": "stdout",
          "text": [
            "INFO:spleeter:File wav_files/ドライフラワー_1番のみ/vocals.wav written succesfully\n"
          ]
        },
        {
          "output_type": "stream",
          "name": "stderr",
          "text": [
            "INFO:spleeter:File wav_files/ドライフラワー_1番のみ/vocals.wav written succesfully\n"
          ]
        },
        {
          "output_type": "stream",
          "name": "stdout",
          "text": [
            "INFO:spleeter:File wav_files/ドライフラワー_1番のみ/accompaniment.wav written succesfully\n"
          ]
        },
        {
          "output_type": "stream",
          "name": "stderr",
          "text": [
            "INFO:spleeter:File wav_files/ドライフラワー_1番のみ/accompaniment.wav written succesfully\n"
          ]
        }
      ],
      "source": [
        "from spleeter.separator import Separator\n",
        "\n",
        "input_file = '/content/ドライフラワー_1番のみ.wav'  # 入力ファイルのパス\n",
        "\n",
        "# ボーカル抽出\n",
        "def extract_vocals(input_file, output_file):\n",
        "    separator = Separator('spleeter:2stems')\n",
        "    separator.separate_to_file(input_file, output_file, codec='wav')\n",
        "\n",
        "vocal_file = 'wav_files'\n",
        "extract_vocals(input_file, vocal_file)"
      ]
    },
    {
      "cell_type": "markdown",
      "source": [
        "## 副旋律（ハモリ）生成\n",
        "\n",
        "**vocal_wav_path**に主旋律（ボーカル）のみの音源のパスを、\n",
        "\n",
        "**accompaniment_wav_path**に伴奏のみの音源のパスを入力すると、ハモリ音源が生成できる。\n"
      ],
      "metadata": {
        "id": "QBLC2PJNx2O4"
      }
    },
    {
      "cell_type": "code",
      "source": [
        "import librosa\n",
        "import numpy as np\n",
        "import pyworld as pw\n",
        "import soundfile as sf\n",
        "from scipy.ndimage import uniform_filter1d\n",
        "import matplotlib.pyplot as plt\n",
        "\n",
        "# ボーカルトラックと伴奏トラックを読み込み、処理する関数\n",
        "def load_and_process_tracks(vocal_path, accompaniment_path, sr=48000):\n",
        "    try:\n",
        "        y_vocal, _ = librosa.load(vocal_path, sr=sr, dtype='float64')\n",
        "        y_accompaniment, _ = librosa.load(accompaniment_path, sr=sr, dtype='float64')\n",
        "    except Exception as e:\n",
        "        print(f\"Error loading tracks: {e}\")\n",
        "        return None, None\n",
        "\n",
        "    # トラックの長さをチェック\n",
        "    print(f\"Vocal track length: {len(y_vocal)}, Accompaniment track length: {len(y_accompaniment)}\")\n",
        "\n",
        "    chroma = librosa.feature.chroma_stft(y=y_accompaniment, sr=sr, hop_length=int(sr*0.005))\n",
        "    return y_vocal, chroma\n",
        "\n",
        "\n",
        "# pyworldを使ってピッチを抽出する関数\n",
        "def extract_pitch(y, sr):\n",
        "    try:\n",
        "        f0, t = pw.dio(y, sr)\n",
        "        f0 = pw.stonemask(y, f0, t, sr)\n",
        "    except Exception as e:\n",
        "        print(f\"Error in pitch extraction: {e}\")\n",
        "        return None, None\n",
        "\n",
        "    # ピッチ抽出結果の確認\n",
        "    print(f\"Extracted {len(f0)} pitch values.\")\n",
        "    return f0, t\n",
        "\n",
        "\n",
        "# クロマグラムを平滑化する関数\n",
        "def smooth_chromagram(chromagram, window_size=200):\n",
        "    smoothed = uniform_filter1d(chromagram, size=window_size, axis=1)\n",
        "    # 平滑化前後の変化を表示\n",
        "    print(f\"Chromagram smoothing: original shape {chromagram.shape}, smoothed shape {smoothed.shape}\")\n",
        "    return smoothed\n",
        "\n",
        "\n",
        "# 状態遷移確率行列と出力確率を定義\n",
        "transition_probabilities_same_pitch = {\n",
        "    \"major_third\": {\"major_third\": 0.7, \"minor_third\":0.15, \"perfect_fourth\": 0.1, \"none\": 0.05},\n",
        "    \"minor_third\": {\"major_third\": 0.15, \"minor_third\": 0.7, \"perfect_fourth\": 0.1, \"none\": 0.05},\n",
        "    \"perfect_fourth\": {\"major_third\": 0.2, \"minor_third\": 0.2, \"perfect_fourth\": 0.6, \"none\": 0.1},\n",
        "    \"none\": {\"major_third\": 0.35, \"minor_third\": 0.35, \"perfect_fourth\": 0.25, \"none\": 0.05}\n",
        "}\n",
        "\n",
        "transition_probabilities_different_pitch = {\n",
        "    \"major_third\": {\"major_third\": 0.35, \"minor_third\": 0.35, \"perfect_fourth\": 0.25, \"none\": 0.05},\n",
        "    \"minor_third\": {\"major_third\": 0.35, \"minor_third\": 0.35, \"perfect_fourth\": 0.25, \"none\": 0.05},\n",
        "    \"perfect_fourth\": {\"major_third\": 0.35, \"minor_third\": 0.35, \"perfect_fourth\": 0.25, \"none\": 0.05},\n",
        "    \"none\": {\"major_third\": 0.3, \"minor_third\": 0.3, \"perfect_fourth\": 0.3, \"none\": 0.1}\n",
        "}\n",
        "\n",
        "output_probabilities = {\n",
        "    \"major_third\": None,\n",
        "    \"minor_third\": None,\n",
        "    \"perfect_fourth\": None,\n",
        "    \"none\": None\n",
        "}\n",
        "\n",
        "# 時間軸方向の音階ごとの平均値を計算\n",
        "def calculate_chroma_mean(chromagram):\n",
        "    return np.mean(chromagram, axis=1)\n",
        "\n",
        "# 音階の時間平均確率を基に選択確率を計算\n",
        "def calculate_mean_probability(note_index, chroma_mean):\n",
        "    return chroma_mean[note_index]\n",
        "\n",
        "# クロマグラムから出力確率を計算する関数\n",
        "def calculate_output_probabilities(chroma_frame, epsilon=0.0001):\n",
        "    total = np.sum(chroma_frame)\n",
        "    smoothed_chroma_frame = chroma_frame + epsilon  # 微小値を足してスムージング\n",
        "    if total == 0:\n",
        "        return smoothed_chroma_frame / np.sum(smoothed_chroma_frame)  # 再正規化\n",
        "    return smoothed_chroma_frame / (total + epsilon * len(chroma_frame))  # 再正規化\n",
        "\n",
        "# 半音でぶつかっている確率を計算する関数\n",
        "def calculate_collision_probability(chroma_prob, note_index):\n",
        "    half_step_up = (note_index + 1) % 12\n",
        "    half_step_down = (note_index - 1) % 12\n",
        "    collision_prob = 1 - (chroma_prob[half_step_up] + chroma_prob[half_step_down])\n",
        "    return max(0, collision_prob)\n",
        "\n",
        "# ハモリ音を選択する関数\n",
        "def choose_harmony_note_viterbi(original_pitch, harmony_candidates, chroma_frame, prev_state,\n",
        "                                transition_probabilities, harmony_direction, weights, chroma_mean):\n",
        "    if original_pitch == 0:\n",
        "        return 0, \"none\"\n",
        "\n",
        "    # クロマフレームから出力確率を計算\n",
        "    chroma_prob = calculate_output_probabilities(chroma_frame)\n",
        "\n",
        "    max_prob = 0\n",
        "    selected_harmony_pitch = None\n",
        "    selected_state = None\n",
        "\n",
        "    for state in harmony_candidates:\n",
        "        if state == \"none\":\n",
        "            candidate_pitch = 0\n",
        "        elif state == \"major_third\":\n",
        "            candidate_pitch = original_pitch * (2 ** (-4 / 12))\n",
        "        elif state == \"minor_third\":\n",
        "            candidate_pitch = original_pitch * (2 ** (-3 / 12))\n",
        "        elif state == \"perfect_fourth\":\n",
        "            candidate_pitch = original_pitch * (2 ** (-5 / 12))\n",
        "\n",
        "        if candidate_pitch <= 0:\n",
        "            continue\n",
        "\n",
        "        # 遷移確率と出力確率を組み合わせて最大確率の状態を選択\n",
        "        if prev_state in transition_probabilities:\n",
        "            note_index = int(np.round(np.log2(candidate_pitch / 440) * 12) + 9) % 12\n",
        "            transition_prob = transition_probabilities[prev_state][state]\n",
        "            output_prob = chroma_prob[note_index]\n",
        "            collision_prob = calculate_collision_probability(chroma_prob, note_index)\n",
        "            mean_prob = calculate_mean_probability(note_index, chroma_mean)\n",
        "\n",
        "            # 重み付けを適用して確率の積を計算\n",
        "            prob = (\n",
        "                (transition_prob ** weights[\"transition\"])\n",
        "                * (output_prob ** weights[\"output\"])\n",
        "                * (collision_prob ** weights[\"collision\"])\n",
        "                * (mean_prob ** weights[\"mean\"])\n",
        "            )\n",
        "\n",
        "            if prob > max_prob:\n",
        "                max_prob = prob\n",
        "                selected_harmony_pitch = candidate_pitch\n",
        "                selected_state = state\n",
        "        else:\n",
        "            selected_harmony_pitch = candidate_pitch\n",
        "            selected_state = state\n",
        "\n",
        "    if selected_harmony_pitch is None:\n",
        "        return 0, \"none\"\n",
        "\n",
        "    return selected_harmony_pitch, selected_state\n",
        "\n",
        "# ハーモニーを生成する関数（重みを指定可能に変更）\n",
        "def generate_harmony(y_vocal, sr, chromagram, output_file, harmony_direction=\"down\", weights=None):\n",
        "    f0, t = extract_pitch(y_vocal, sr)\n",
        "    sp = pw.cheaptrick(y_vocal, f0, t, sr)\n",
        "    ap = pw.d4c(y_vocal, f0, t, sr)\n",
        "    smoothed_chromagram = smooth_chromagram(chromagram)\n",
        "\n",
        "    # 時間軸方向の平均値を計算\n",
        "    chroma_mean = calculate_chroma_mean(smoothed_chromagram)\n",
        "\n",
        "    harmony_pitch = np.copy(f0)\n",
        "    harmony_choices = []\n",
        "\n",
        "    prev_state = \"none\"\n",
        "\n",
        "    for i in range(len(f0)):\n",
        "        if f0[i] == 0:\n",
        "            harmony_pitch[i] = 0\n",
        "            harmony_choices.append(\"none\")\n",
        "            continue\n",
        "\n",
        "        harmony_candidates = [\"major_third\", \"minor_third\", \"perfect_fourth\", \"none\"]\n",
        "\n",
        "        # ピッチが前の音と同じかどうかを比を用いて判断\n",
        "        if i > 0 and f0[i - 1] != 0 and (f0[i] / f0[i - 1] > 0.99 and f0[i] / f0[i - 1] < 1.01):\n",
        "            selected_note, prev_state = choose_harmony_note_viterbi(\n",
        "                f0[i], harmony_candidates, smoothed_chromagram[:, i], prev_state,\n",
        "                transition_probabilities_same_pitch, harmony_direction, weights, chroma_mean\n",
        "            )\n",
        "        else:\n",
        "            selected_note, prev_state = choose_harmony_note_viterbi(\n",
        "                f0[i], harmony_candidates, smoothed_chromagram[:, i], prev_state,\n",
        "                transition_probabilities_different_pitch, harmony_direction, weights, chroma_mean\n",
        "            )\n",
        "\n",
        "        harmony_choices.append(prev_state)\n",
        "        harmony_pitch[i] = selected_note\n",
        "\n",
        "    harmonic = pw.synthesize(harmony_pitch, sp, ap, sr)\n",
        "    sf.write(output_file, harmonic, sr)\n",
        "\n",
        "    return harmony_choices\n",
        "\n",
        "def plot_harmony_choices(harmony_choices):\n",
        "    fig, ax = plt.subplots(figsize=(15, 5))\n",
        "    colors = {\"major_third\": \"blue\", \"minor_third\": \"green\", \"perfect_fourth\": \"red\", \"none\": \"gray\"}\n",
        "    for i, choice in enumerate(harmony_choices):\n",
        "        ax.bar(i, 1, color=colors[choice])\n",
        "\n",
        "    ax.set_xlabel(\"Frame\")\n",
        "    ax.set_ylabel(\"Harmony Choice\")\n",
        "    ax.set_title(\"Harmony Choices over Frames\")\n",
        "    plt.show()\n",
        "\n",
        "# メイン処理で重みを指定\n",
        "vocal_wav_path = '/content/津軽海峡冬景色_vocals.wav'\n",
        "accompaniment_wav_path = '/content/津軽海峡冬景色_accompaniment.wav'\n",
        "\n",
        "weights = {\"transition\": 1, \"output\": 1, \"collision\": 0.75, \"mean\": 0.75}  # 重みを一箇所で管理\n",
        "\n",
        "y_vocal, chromagram_accompaniment = load_and_process_tracks(vocal_wav_path, accompaniment_wav_path)\n",
        "harmony_choices = generate_harmony(y_vocal, 48000, chromagram_accompaniment, 'harmony_津軽海峡冬景色.wav', harmony_direction='down', weights=weights)\n",
        "\n",
        "\n",
        "#plot_harmony_choices(harmony_choices)\n",
        "\n",
        "\n"
      ],
      "metadata": {
        "colab": {
          "base_uri": "https://localhost:8080/",
          "height": 542
        },
        "id": "G1CU2SgwedOW",
        "outputId": "04b8603c-6b60-40cd-b8bf-d974bc4ad29a"
      },
      "execution_count": null,
      "outputs": [
        {
          "output_type": "stream",
          "name": "stdout",
          "text": [
            "Vocal track length: 10834061, Accompaniment track length: 10834061\n",
            "Extracted 45142 pitch values.\n",
            "Chromagram smoothing: original shape (12, 45142), smoothed shape (12, 45142)\n"
          ]
        },
        {
          "output_type": "display_data",
          "data": {
            "text/plain": [
              "<Figure size 1500x500 with 1 Axes>"
            ],
            "image/png": "[encoded data removed]"
          },
          "metadata": {}
        }
      ]
    },
    {
      "cell_type": "markdown",
      "source": [
        "## 音源合成\n",
        "\n",
        "前のパートで生成したハモリ音源などを合成して一つの音源にできる。\n",
        "\n",
        "右の音量調節部分を活用することで、様々なパターンの音源を作成してみよう。\n",
        "\n",
        "例：伴奏の音量を-20にする → ハモリ＋主旋律のみの音源が作れる"
      ],
      "metadata": {
        "id": "qVjf7DWA0De2"
      }
    },
    {
      "cell_type": "code",
      "source": [
        "from pydub import AudioSegment\n",
        "\n",
        "# 主旋律のみ音源を読み込む\n",
        "vocal = AudioSegment.from_file(\"/content/harmony_KING_1番のみ_b.wav\")\n",
        "\n",
        "# 伴奏のみ音源を読み込む\n",
        "accompaniment = AudioSegment.from_file(\"/content/KING_1番のみ.wav\")\n",
        "\n",
        "# 副旋律（ハモリ音源）を読み込む\n",
        "harmony = AudioSegment.from_file(\"/content/another_harmony_KING.wav\")\n",
        "\n",
        "# 主旋律の音量を調整する\n",
        "vocal = 6 #@param {type:\"slider\", min:-20.0, max:20.0, step:1.0}\n",
        "\n",
        "\n",
        "# 伴奏の音量を調整する（そのまま）\n",
        "accompaniment = -20 #@param {type:\"slider\", min:-20.0, max:20.0, step:1.0}\n",
        "\n",
        "# 副旋律（ハモリ音源）の音量を調整する（適宜調整）\n",
        "harmony = -20 #@param {type:\"slider\", min:-20.0, max:20.0, step:1.0}\n",
        "\n",
        "# 音源を合成する\n",
        "combined = vocal.overlay(accompaniment).overlay(harmony)\n",
        "\n",
        "# 合成した音源を保存する\n",
        "combined.export(\"combined_KING_１番のみ_b.wav\", format=\"wav\")"
      ],
      "metadata": {
        "id": "X53GZuWXp6YW"
      },
      "execution_count": null,
      "outputs": []
    }
  ],
  "metadata": {
    "colab": {
      "provenance": [],
      "include_colab_link": true
    },
    "kernelspec": {
      "display_name": "Python 3",
      "name": "python3"
    },
    "language_info": {
      "name": "python"
    }
  },
  "nbformat": 4,
  "nbformat_minor": 0
}